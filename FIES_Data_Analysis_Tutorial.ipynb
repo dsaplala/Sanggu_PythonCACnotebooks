{
 "cells": [
  {
   "cell_type": "markdown",
   "id": "caa0913d",
   "metadata": {
    "id": "caa0913d"
   },
   "source": [
    "# Python Tutorial: Data Analysis with FIES Dataset"
   ]
  },
  {
   "cell_type": "markdown",
   "id": "c25f9582",
   "metadata": {
    "id": "c25f9582"
   },
   "source": [
    "\n",
    "This tutorial demonstrates basic data analysis using Python. It is based on the provided Family Income and Expenditure Survey (FIES) dataset.\n",
    "We will cover the following topics:\n",
    "\n",
    "1. Loading Data\n",
    "2. Describing Data\n",
    "3. Generating New Variables\n",
    "4. Recoding Variables\n",
    "5. Tabulating Data\n",
    "6. Cross-tabulation\n",
    "7. Summarizing Data\n",
    "8. Summarizing Data by Groups\n"
   ]
  },
  {
   "cell_type": "markdown",
   "id": "fb0dc59b",
   "metadata": {
    "id": "fb0dc59b"
   },
   "source": [
    "## 1. Loading Data"
   ]
  },
  {
   "cell_type": "code",
   "execution_count": 2,
   "id": "0d141259",
   "metadata": {
    "colab": {
     "base_uri": "https://localhost:8080/",
     "height": 429
    },
    "id": "0d141259",
    "outputId": "1e5537a6-7c59-485e-a484-e6a8a7f4eb32"
   },
   "outputs": [
    {
     "data": {
      "text/html": [
       "<div>\n",
       "<style scoped>\n",
       "    .dataframe tbody tr th:only-of-type {\n",
       "        vertical-align: middle;\n",
       "    }\n",
       "\n",
       "    .dataframe tbody tr th {\n",
       "        vertical-align: top;\n",
       "    }\n",
       "\n",
       "    .dataframe thead th {\n",
       "        text-align: right;\n",
       "    }\n",
       "</style>\n",
       "<table border=\"1\" class=\"dataframe\">\n",
       "  <thead>\n",
       "    <tr style=\"text-align: right;\">\n",
       "      <th></th>\n",
       "      <th>W_REGN</th>\n",
       "      <th>W_PROV</th>\n",
       "      <th>SEQUENCE_NO</th>\n",
       "      <th>FSIZE</th>\n",
       "      <th>REG_SAL</th>\n",
       "      <th>SEASON_SAL</th>\n",
       "      <th>WAGES</th>\n",
       "      <th>NETSHARE</th>\n",
       "      <th>CASH_ABROAD</th>\n",
       "      <th>CASH_DOMESTIC</th>\n",
       "      <th>...</th>\n",
       "      <th>HOUSING_WATER</th>\n",
       "      <th>IMPUTED_RENT</th>\n",
       "      <th>NFOOD</th>\n",
       "      <th>TOTEX</th>\n",
       "      <th>TOTDIS</th>\n",
       "      <th>URB</th>\n",
       "      <th>PCINC</th>\n",
       "      <th>FOODoTOTEX</th>\n",
       "      <th>lnTOINC</th>\n",
       "      <th>lnNFOOD</th>\n",
       "    </tr>\n",
       "  </thead>\n",
       "  <tbody>\n",
       "    <tr>\n",
       "      <th>165023</th>\n",
       "      <td>Region IVB - MIMAROPA</td>\n",
       "      <td>Romblon</td>\n",
       "      <td>165024</td>\n",
       "      <td>4.0</td>\n",
       "      <td>0</td>\n",
       "      <td>0</td>\n",
       "      <td>0</td>\n",
       "      <td>0</td>\n",
       "      <td>9000</td>\n",
       "      <td>55000</td>\n",
       "      <td>...</td>\n",
       "      <td>29628</td>\n",
       "      <td>24000</td>\n",
       "      <td>48380</td>\n",
       "      <td>105379</td>\n",
       "      <td>105379</td>\n",
       "      <td>2</td>\n",
       "      <td>26827.500</td>\n",
       "      <td>0.540895</td>\n",
       "      <td>11.583477</td>\n",
       "      <td>10.786841</td>\n",
       "    </tr>\n",
       "    <tr>\n",
       "      <th>165024</th>\n",
       "      <td>Region IVB - MIMAROPA</td>\n",
       "      <td>Romblon</td>\n",
       "      <td>165025</td>\n",
       "      <td>1.0</td>\n",
       "      <td>0</td>\n",
       "      <td>0</td>\n",
       "      <td>0</td>\n",
       "      <td>0</td>\n",
       "      <td>26000</td>\n",
       "      <td>4200</td>\n",
       "      <td>...</td>\n",
       "      <td>8730</td>\n",
       "      <td>6000</td>\n",
       "      <td>17190</td>\n",
       "      <td>34739</td>\n",
       "      <td>45239</td>\n",
       "      <td>2</td>\n",
       "      <td>46524.000</td>\n",
       "      <td>0.505167</td>\n",
       "      <td>10.747724</td>\n",
       "      <td>9.752083</td>\n",
       "    </tr>\n",
       "    <tr>\n",
       "      <th>165025</th>\n",
       "      <td>Region IVB - MIMAROPA</td>\n",
       "      <td>Romblon</td>\n",
       "      <td>165026</td>\n",
       "      <td>5.0</td>\n",
       "      <td>0</td>\n",
       "      <td>0</td>\n",
       "      <td>0</td>\n",
       "      <td>0</td>\n",
       "      <td>0</td>\n",
       "      <td>0</td>\n",
       "      <td>...</td>\n",
       "      <td>21900</td>\n",
       "      <td>18000</td>\n",
       "      <td>53375</td>\n",
       "      <td>119894</td>\n",
       "      <td>119894</td>\n",
       "      <td>2</td>\n",
       "      <td>24656.000</td>\n",
       "      <td>0.554815</td>\n",
       "      <td>11.722214</td>\n",
       "      <td>10.885098</td>\n",
       "    </tr>\n",
       "    <tr>\n",
       "      <th>165026</th>\n",
       "      <td>Region IVB - MIMAROPA</td>\n",
       "      <td>Romblon</td>\n",
       "      <td>165027</td>\n",
       "      <td>3.0</td>\n",
       "      <td>55050</td>\n",
       "      <td>54900</td>\n",
       "      <td>109950</td>\n",
       "      <td>0</td>\n",
       "      <td>0</td>\n",
       "      <td>15500</td>\n",
       "      <td>...</td>\n",
       "      <td>15600</td>\n",
       "      <td>12000</td>\n",
       "      <td>69776</td>\n",
       "      <td>102449</td>\n",
       "      <td>142949</td>\n",
       "      <td>2</td>\n",
       "      <td>47986.668</td>\n",
       "      <td>0.318920</td>\n",
       "      <td>11.877291</td>\n",
       "      <td>11.153046</td>\n",
       "    </tr>\n",
       "    <tr>\n",
       "      <th>165027</th>\n",
       "      <td>Region IVB - MIMAROPA</td>\n",
       "      <td>Romblon</td>\n",
       "      <td>165028</td>\n",
       "      <td>8.0</td>\n",
       "      <td>0</td>\n",
       "      <td>3600</td>\n",
       "      <td>3600</td>\n",
       "      <td>0</td>\n",
       "      <td>5000</td>\n",
       "      <td>37800</td>\n",
       "      <td>...</td>\n",
       "      <td>11460</td>\n",
       "      <td>9600</td>\n",
       "      <td>38908</td>\n",
       "      <td>108158</td>\n",
       "      <td>132158</td>\n",
       "      <td>2</td>\n",
       "      <td>16493.750</td>\n",
       "      <td>0.640267</td>\n",
       "      <td>11.790178</td>\n",
       "      <td>10.568955</td>\n",
       "    </tr>\n",
       "    <tr>\n",
       "      <th>165028</th>\n",
       "      <td>Region IVB - MIMAROPA</td>\n",
       "      <td>Romblon</td>\n",
       "      <td>165029</td>\n",
       "      <td>4.0</td>\n",
       "      <td>0</td>\n",
       "      <td>69900</td>\n",
       "      <td>69900</td>\n",
       "      <td>0</td>\n",
       "      <td>0</td>\n",
       "      <td>17800</td>\n",
       "      <td>...</td>\n",
       "      <td>19500</td>\n",
       "      <td>12000</td>\n",
       "      <td>52404</td>\n",
       "      <td>103214</td>\n",
       "      <td>137114</td>\n",
       "      <td>2</td>\n",
       "      <td>34296.250</td>\n",
       "      <td>0.492278</td>\n",
       "      <td>11.829085</td>\n",
       "      <td>10.866738</td>\n",
       "    </tr>\n",
       "  </tbody>\n",
       "</table>\n",
       "<p>6 rows × 32 columns</p>\n",
       "</div>"
      ],
      "text/plain": [
       "                       W_REGN   W_PROV  SEQUENCE_NO  FSIZE  REG_SAL  \\\n",
       "165023  Region IVB - MIMAROPA  Romblon       165024    4.0        0   \n",
       "165024  Region IVB - MIMAROPA  Romblon       165025    1.0        0   \n",
       "165025  Region IVB - MIMAROPA  Romblon       165026    5.0        0   \n",
       "165026  Region IVB - MIMAROPA  Romblon       165027    3.0    55050   \n",
       "165027  Region IVB - MIMAROPA  Romblon       165028    8.0        0   \n",
       "165028  Region IVB - MIMAROPA  Romblon       165029    4.0        0   \n",
       "\n",
       "        SEASON_SAL   WAGES  NETSHARE  CASH_ABROAD  CASH_DOMESTIC  ...  \\\n",
       "165023           0       0         0         9000          55000  ...   \n",
       "165024           0       0         0        26000           4200  ...   \n",
       "165025           0       0         0            0              0  ...   \n",
       "165026       54900  109950         0            0          15500  ...   \n",
       "165027        3600    3600         0         5000          37800  ...   \n",
       "165028       69900   69900         0            0          17800  ...   \n",
       "\n",
       "        HOUSING_WATER  IMPUTED_RENT  NFOOD   TOTEX  TOTDIS  URB      PCINC  \\\n",
       "165023          29628         24000  48380  105379  105379    2  26827.500   \n",
       "165024           8730          6000  17190   34739   45239    2  46524.000   \n",
       "165025          21900         18000  53375  119894  119894    2  24656.000   \n",
       "165026          15600         12000  69776  102449  142949    2  47986.668   \n",
       "165027          11460          9600  38908  108158  132158    2  16493.750   \n",
       "165028          19500         12000  52404  103214  137114    2  34296.250   \n",
       "\n",
       "        FOODoTOTEX    lnTOINC    lnNFOOD  \n",
       "165023    0.540895  11.583477  10.786841  \n",
       "165024    0.505167  10.747724   9.752083  \n",
       "165025    0.554815  11.722214  10.885098  \n",
       "165026    0.318920  11.877291  11.153046  \n",
       "165027    0.640267  11.790178  10.568955  \n",
       "165028    0.492278  11.829085  10.866738  \n",
       "\n",
       "[6 rows x 32 columns]"
      ]
     },
     "execution_count": 2,
     "metadata": {},
     "output_type": "execute_result"
    }
   ],
   "source": [
    "\n",
    "import pandas as pd\n",
    "\n",
    "# Load the dataset\n",
    "file_path = '2021FIESvol1_puf_SELECTED.dta' #CHANGE this part depending on where the file is located\n",
    "fies_data = pd.read_stata(file_path)\n",
    "\n",
    "# Display the first few rows of the dataset (default is 5 rows)\n",
    "fies_data.head(6)\n",
    "\n",
    "# Display the last few rows of the dataset (default is 5 rows)\n",
    "fies_data.tail(6)\n"
   ]
  },
  {
   "cell_type": "markdown",
   "id": "5f573aad",
   "metadata": {
    "id": "5f573aad"
   },
   "source": [
    "## 2. Describing Data"
   ]
  },
  {
   "cell_type": "code",
   "execution_count": 3,
   "id": "cceb52ef",
   "metadata": {
    "colab": {
     "base_uri": "https://localhost:8080/"
    },
    "id": "cceb52ef",
    "outputId": "c6794182-e31d-47e0-c788-a169be6f64d5"
   },
   "outputs": [
    {
     "name": "stdout",
     "output_type": "stream",
     "text": [
      "<class 'pandas.core.frame.DataFrame'>\n",
      "RangeIndex: 165029 entries, 0 to 165028\n",
      "Data columns (total 32 columns):\n",
      " #   Column         Non-Null Count   Dtype   \n",
      "---  ------         --------------   -----   \n",
      " 0   W_REGN         165029 non-null  category\n",
      " 1   W_PROV         165029 non-null  category\n",
      " 2   SEQUENCE_NO    165029 non-null  int32   \n",
      " 3   FSIZE          165029 non-null  float64 \n",
      " 4   REG_SAL        165029 non-null  int32   \n",
      " 5   SEASON_SAL     165029 non-null  int32   \n",
      " 6   WAGES          165029 non-null  int32   \n",
      " 7   NETSHARE       165029 non-null  int32   \n",
      " 8   CASH_ABROAD    165029 non-null  int32   \n",
      " 9   CASH_DOMESTIC  165029 non-null  int32   \n",
      " 10  RENTALS_REC    165029 non-null  int32   \n",
      " 11  INTEREST       165029 non-null  int32   \n",
      " 12  PENSION        165029 non-null  int32   \n",
      " 13  DIVIDENDS      165029 non-null  int32   \n",
      " 14  OTHER_SOURCE   165029 non-null  int32   \n",
      " 15  NET_RECEIPT    165029 non-null  int32   \n",
      " 16  EAINC          165029 non-null  int32   \n",
      " 17  TOINC          165029 non-null  int32   \n",
      " 18  ALCOHOL        165029 non-null  int32   \n",
      " 19  TOBACCO        165029 non-null  int32   \n",
      " 20  FOOD           165029 non-null  int32   \n",
      " 21  HEALTH         165029 non-null  int32   \n",
      " 22  HOUSING_WATER  165029 non-null  int32   \n",
      " 23  IMPUTED_RENT   165029 non-null  int32   \n",
      " 24  NFOOD          165029 non-null  int32   \n",
      " 25  TOTEX          165029 non-null  int32   \n",
      " 26  TOTDIS         165029 non-null  int32   \n",
      " 27  URB            165029 non-null  int8    \n",
      " 28  PCINC          165029 non-null  float64 \n",
      " 29  FOODoTOTEX     165029 non-null  float32 \n",
      " 30  lnTOINC        165029 non-null  float32 \n",
      " 31  lnNFOOD        165029 non-null  float32 \n",
      "dtypes: category(2), float32(3), float64(2), int32(24), int8(1)\n",
      "memory usage: 20.0 MB\n"
     ]
    }
   ],
   "source": [
    "\n",
    "# Check the structure of the dataset, variable data types, and missing values\n",
    "fies_data.info()\n",
    "\n",
    "# Generate descriptive statistics\n",
    "# fies_data.describe()\n",
    "\n",
    "# Shape of the dataset (number of rows and columns)\n",
    "# fies_data.shape\n"
   ]
  },
  {
   "cell_type": "markdown",
   "id": "c102c247",
   "metadata": {
    "id": "c102c247"
   },
   "source": [
    "## 3. Generating New Variables"
   ]
  },
  {
   "cell_type": "code",
   "execution_count": 4,
   "id": "d42a010a",
   "metadata": {
    "colab": {
     "base_uri": "https://localhost:8080/",
     "height": 206
    },
    "id": "d42a010a",
    "outputId": "197c9312-5696-4d22-ead3-1bd445c17b24"
   },
   "outputs": [
    {
     "data": {
      "text/html": [
       "<div>\n",
       "<style scoped>\n",
       "    .dataframe tbody tr th:only-of-type {\n",
       "        vertical-align: middle;\n",
       "    }\n",
       "\n",
       "    .dataframe tbody tr th {\n",
       "        vertical-align: top;\n",
       "    }\n",
       "\n",
       "    .dataframe thead th {\n",
       "        text-align: right;\n",
       "    }\n",
       "</style>\n",
       "<table border=\"1\" class=\"dataframe\">\n",
       "  <thead>\n",
       "    <tr style=\"text-align: right;\">\n",
       "      <th></th>\n",
       "      <th>TOTEX</th>\n",
       "      <th>FSIZE</th>\n",
       "      <th>PC_TOTEX</th>\n",
       "    </tr>\n",
       "  </thead>\n",
       "  <tbody>\n",
       "    <tr>\n",
       "      <th>0</th>\n",
       "      <td>350404</td>\n",
       "      <td>6.5</td>\n",
       "      <td>53908.307692</td>\n",
       "    </tr>\n",
       "    <tr>\n",
       "      <th>1</th>\n",
       "      <td>231900</td>\n",
       "      <td>4.0</td>\n",
       "      <td>57975.000000</td>\n",
       "    </tr>\n",
       "    <tr>\n",
       "      <th>2</th>\n",
       "      <td>147510</td>\n",
       "      <td>1.0</td>\n",
       "      <td>147510.000000</td>\n",
       "    </tr>\n",
       "    <tr>\n",
       "      <th>3</th>\n",
       "      <td>153456</td>\n",
       "      <td>3.0</td>\n",
       "      <td>51152.000000</td>\n",
       "    </tr>\n",
       "    <tr>\n",
       "      <th>4</th>\n",
       "      <td>229692</td>\n",
       "      <td>4.0</td>\n",
       "      <td>57423.000000</td>\n",
       "    </tr>\n",
       "  </tbody>\n",
       "</table>\n",
       "</div>"
      ],
      "text/plain": [
       "    TOTEX  FSIZE       PC_TOTEX\n",
       "0  350404    6.5   53908.307692\n",
       "1  231900    4.0   57975.000000\n",
       "2  147510    1.0  147510.000000\n",
       "3  153456    3.0   51152.000000\n",
       "4  229692    4.0   57423.000000"
      ]
     },
     "execution_count": 4,
     "metadata": {},
     "output_type": "execute_result"
    }
   ],
   "source": [
    "\n",
    "# Add a new variable: Per Capita Total Expenditure\n",
    "fies_data['PC_TOTEX'] = fies_data['TOTEX'] / fies_data['FSIZE']\n",
    "\n",
    "# Preview the updated dataset\n",
    "fies_data[['TOTEX', 'FSIZE', 'PC_TOTEX']].head()\n"
   ]
  },
  {
   "cell_type": "markdown",
   "id": "6c278be1",
   "metadata": {
    "id": "6c278be1"
   },
   "source": [
    "## 4. Recoding Variables"
   ]
  },
  {
   "cell_type": "code",
   "execution_count": 6,
   "id": "d940741c",
   "metadata": {
    "colab": {
     "base_uri": "https://localhost:8080/",
     "height": 206
    },
    "id": "d940741c",
    "outputId": "7ef4461d-bda0-42ec-9ff4-eddb8d6a242d"
   },
   "outputs": [
    {
     "data": {
      "text/html": [
       "<div>\n",
       "<style scoped>\n",
       "    .dataframe tbody tr th:only-of-type {\n",
       "        vertical-align: middle;\n",
       "    }\n",
       "\n",
       "    .dataframe tbody tr th {\n",
       "        vertical-align: top;\n",
       "    }\n",
       "\n",
       "    .dataframe thead th {\n",
       "        text-align: right;\n",
       "    }\n",
       "</style>\n",
       "<table border=\"1\" class=\"dataframe\">\n",
       "  <thead>\n",
       "    <tr style=\"text-align: right;\">\n",
       "      <th></th>\n",
       "      <th>URB</th>\n",
       "      <th>Urban_Rural</th>\n",
       "    </tr>\n",
       "  </thead>\n",
       "  <tbody>\n",
       "    <tr>\n",
       "      <th>0</th>\n",
       "      <td>2</td>\n",
       "      <td>Rural</td>\n",
       "    </tr>\n",
       "    <tr>\n",
       "      <th>1</th>\n",
       "      <td>2</td>\n",
       "      <td>Rural</td>\n",
       "    </tr>\n",
       "    <tr>\n",
       "      <th>2</th>\n",
       "      <td>2</td>\n",
       "      <td>Rural</td>\n",
       "    </tr>\n",
       "    <tr>\n",
       "      <th>3</th>\n",
       "      <td>2</td>\n",
       "      <td>Rural</td>\n",
       "    </tr>\n",
       "    <tr>\n",
       "      <th>4</th>\n",
       "      <td>2</td>\n",
       "      <td>Rural</td>\n",
       "    </tr>\n",
       "  </tbody>\n",
       "</table>\n",
       "</div>"
      ],
      "text/plain": [
       "   URB Urban_Rural\n",
       "0    2       Rural\n",
       "1    2       Rural\n",
       "2    2       Rural\n",
       "3    2       Rural\n",
       "4    2       Rural"
      ]
     },
     "execution_count": 6,
     "metadata": {},
     "output_type": "execute_result"
    }
   ],
   "source": [
    "fies_data['URB']\n",
    "\n",
    "# Recode the 'URB' variable into a new variable: 'Urban_Rural'\n",
    "fies_data['Urban_Rural'] = fies_data['URB'].replace({1: 'Urban', 2: 'Rural'})\n",
    "\n",
    "# Check the recoded variable\n",
    "fies_data[['URB', 'Urban_Rural']].head()\n"
   ]
  },
  {
   "cell_type": "markdown",
   "id": "6354cc1d",
   "metadata": {
    "id": "6354cc1d"
   },
   "source": [
    "## 5. Tabulating Data"
   ]
  },
  {
   "cell_type": "code",
   "execution_count": 7,
   "id": "724c18c1",
   "metadata": {
    "colab": {
     "base_uri": "https://localhost:8080/",
     "height": 490
    },
    "id": "724c18c1",
    "outputId": "6a1ecbab-517a-4a04-bf05-b6615530f5a2"
   },
   "outputs": [
    {
     "data": {
      "text/plain": [
       "HEALTH\n",
       "0        490\n",
       "300      349\n",
       "250      347\n",
       "200      337\n",
       "400      337\n",
       "        ... \n",
       "23274      1\n",
       "17830      1\n",
       "35300      1\n",
       "41430      1\n",
       "65978      1\n",
       "Name: count, Length: 24007, dtype: int64"
      ]
     },
     "execution_count": 7,
     "metadata": {},
     "output_type": "execute_result"
    }
   ],
   "source": [
    "\n",
    "# Frequency table of the 'Urban_Rural' variable\n",
    "fies_data['HEALTH'].value_counts()\n"
   ]
  },
  {
   "cell_type": "markdown",
   "id": "6a251c6c",
   "metadata": {
    "id": "6a251c6c"
   },
   "source": [
    "## 6. Cross-tabulation"
   ]
  },
  {
   "cell_type": "code",
   "execution_count": 8,
   "id": "a3f6d67a",
   "metadata": {
    "colab": {
     "base_uri": "https://localhost:8080/",
     "height": 614
    },
    "id": "a3f6d67a",
    "outputId": "6cae33f4-e4f3-4e29-c94b-66767e4b6ea9"
   },
   "outputs": [
    {
     "data": {
      "text/html": [
       "<div>\n",
       "<style scoped>\n",
       "    .dataframe tbody tr th:only-of-type {\n",
       "        vertical-align: middle;\n",
       "    }\n",
       "\n",
       "    .dataframe tbody tr th {\n",
       "        vertical-align: top;\n",
       "    }\n",
       "\n",
       "    .dataframe thead th {\n",
       "        text-align: right;\n",
       "    }\n",
       "</style>\n",
       "<table border=\"1\" class=\"dataframe\">\n",
       "  <thead>\n",
       "    <tr style=\"text-align: right;\">\n",
       "      <th>Urban_Rural</th>\n",
       "      <th>Rural</th>\n",
       "      <th>Urban</th>\n",
       "    </tr>\n",
       "    <tr>\n",
       "      <th>W_REGN</th>\n",
       "      <th></th>\n",
       "      <th></th>\n",
       "    </tr>\n",
       "  </thead>\n",
       "  <tbody>\n",
       "    <tr>\n",
       "      <th>Region I - Ilocos Region</th>\n",
       "      <td>5138</td>\n",
       "      <td>1110</td>\n",
       "    </tr>\n",
       "    <tr>\n",
       "      <th>Region II - Cagayan Valley</th>\n",
       "      <td>5483</td>\n",
       "      <td>1254</td>\n",
       "    </tr>\n",
       "    <tr>\n",
       "      <th>Region III - Central Luzon</th>\n",
       "      <td>5282</td>\n",
       "      <td>8003</td>\n",
       "    </tr>\n",
       "    <tr>\n",
       "      <th>Region IVA - CALABARZON</th>\n",
       "      <td>3063</td>\n",
       "      <td>5212</td>\n",
       "    </tr>\n",
       "    <tr>\n",
       "      <th>Region V- Bicol</th>\n",
       "      <td>7253</td>\n",
       "      <td>1660</td>\n",
       "    </tr>\n",
       "    <tr>\n",
       "      <th>Region VI - Western Visayas</th>\n",
       "      <td>6596</td>\n",
       "      <td>4891</td>\n",
       "    </tr>\n",
       "    <tr>\n",
       "      <th>Region VII - Central Visayas</th>\n",
       "      <td>3868</td>\n",
       "      <td>5343</td>\n",
       "    </tr>\n",
       "    <tr>\n",
       "      <th>Region VIII - Eastern Visayas</th>\n",
       "      <td>8383</td>\n",
       "      <td>2115</td>\n",
       "    </tr>\n",
       "    <tr>\n",
       "      <th>Region IX - Zamboanga Peninsula</th>\n",
       "      <td>3985</td>\n",
       "      <td>2824</td>\n",
       "    </tr>\n",
       "    <tr>\n",
       "      <th>Region X - Northern Mindanao</th>\n",
       "      <td>4747</td>\n",
       "      <td>5242</td>\n",
       "    </tr>\n",
       "    <tr>\n",
       "      <th>Region XI - Davao</th>\n",
       "      <td>4634</td>\n",
       "      <td>4588</td>\n",
       "    </tr>\n",
       "    <tr>\n",
       "      <th>Region XII - SOCCSKSARGEN</th>\n",
       "      <td>3693</td>\n",
       "      <td>4605</td>\n",
       "    </tr>\n",
       "    <tr>\n",
       "      <th>National Capital Region</th>\n",
       "      <td>0</td>\n",
       "      <td>21689</td>\n",
       "    </tr>\n",
       "    <tr>\n",
       "      <th>Cordillera Administrative Region</th>\n",
       "      <td>6852</td>\n",
       "      <td>2694</td>\n",
       "    </tr>\n",
       "    <tr>\n",
       "      <th>Autonomous Region in Muslim Mindanao</th>\n",
       "      <td>6741</td>\n",
       "      <td>1471</td>\n",
       "    </tr>\n",
       "    <tr>\n",
       "      <th>Region XIII - Caraga</th>\n",
       "      <td>4378</td>\n",
       "      <td>3240</td>\n",
       "    </tr>\n",
       "    <tr>\n",
       "      <th>Region IVB - MIMAROPA</th>\n",
       "      <td>5731</td>\n",
       "      <td>3261</td>\n",
       "    </tr>\n",
       "  </tbody>\n",
       "</table>\n",
       "</div>"
      ],
      "text/plain": [
       "Urban_Rural                           Rural  Urban\n",
       "W_REGN                                            \n",
       "Region I - Ilocos Region               5138   1110\n",
       "Region II - Cagayan Valley             5483   1254\n",
       "Region III - Central Luzon             5282   8003\n",
       "Region IVA - CALABARZON                3063   5212\n",
       "Region V- Bicol                        7253   1660\n",
       "Region VI - Western Visayas            6596   4891\n",
       "Region VII - Central Visayas           3868   5343\n",
       "Region VIII - Eastern Visayas          8383   2115\n",
       "Region IX - Zamboanga Peninsula        3985   2824\n",
       "Region X - Northern Mindanao           4747   5242\n",
       "Region XI - Davao                      4634   4588\n",
       "Region XII - SOCCSKSARGEN              3693   4605\n",
       "National Capital Region                   0  21689\n",
       "Cordillera Administrative Region       6852   2694\n",
       "Autonomous Region in Muslim Mindanao   6741   1471\n",
       "Region XIII - Caraga                   4378   3240\n",
       "Region IVB - MIMAROPA                  5731   3261"
      ]
     },
     "execution_count": 8,
     "metadata": {},
     "output_type": "execute_result"
    }
   ],
   "source": [
    "\n",
    "# Cross-tabulation of 'Urban_Rural' and \"W_REGN\"\n",
    "pd.crosstab(fies_data['W_REGN'],fies_data['Urban_Rural'], )\n"
   ]
  },
  {
   "cell_type": "markdown",
   "id": "04a56c27",
   "metadata": {
    "id": "04a56c27"
   },
   "source": [
    "## 7. Summarizing Data"
   ]
  },
  {
   "cell_type": "code",
   "execution_count": 9,
   "id": "9f187d73",
   "metadata": {
    "colab": {
     "base_uri": "https://localhost:8080/",
     "height": 335
    },
    "id": "9f187d73",
    "outputId": "527c43e3-7761-42fe-b2e2-a487cb61b1d4"
   },
   "outputs": [
    {
     "data": {
      "text/plain": [
       "count    1.650290e+05\n",
       "mean     6.062728e+04\n",
       "std      6.188515e+04\n",
       "min      3.832286e+03\n",
       "25%      2.835600e+04\n",
       "50%      4.369933e+04\n",
       "75%      7.152000e+04\n",
       "max      4.818150e+06\n",
       "Name: PC_TOTEX, dtype: float64"
      ]
     },
     "execution_count": 9,
     "metadata": {},
     "output_type": "execute_result"
    }
   ],
   "source": [
    "\n",
    "# Summarize the 'PC_TOTEX' variable\n",
    "fies_data['PC_TOTEX'].describe()\n"
   ]
  },
  {
   "cell_type": "code",
   "execution_count": null,
   "id": "DryDE6MojXQd",
   "metadata": {
    "colab": {
     "base_uri": "https://localhost:8080/"
    },
    "id": "DryDE6MojXQd",
    "outputId": "f9f17664-29c3-486e-cd55-67d05ef4ffca"
   },
   "outputs": [
    {
     "data": {
      "text/plain": [
       "(165029, 34)"
      ]
     },
     "execution_count": 23,
     "metadata": {},
     "output_type": "execute_result"
    }
   ],
   "source": [
    "fies_data.shape"
   ]
  },
  {
   "cell_type": "markdown",
   "id": "aa81c367",
   "metadata": {
    "id": "aa81c367"
   },
   "source": [
    "## 8. Summarizing Data by Groups"
   ]
  },
  {
   "cell_type": "code",
   "execution_count": 10,
   "id": "20f17352",
   "metadata": {
    "colab": {
     "base_uri": "https://localhost:8080/",
     "height": 703
    },
    "id": "20f17352",
    "outputId": "392ca8d3-9d83-440e-e5d0-97b02daafc62"
   },
   "outputs": [
    {
     "name": "stderr",
     "output_type": "stream",
     "text": [
      "/var/folders/6c/wrrn1gpx26q5r1jr0h59sb5h0000gn/T/ipykernel_4409/2486097468.py:5: FutureWarning: The default of observed=False is deprecated and will be changed to True in a future version of pandas. Pass observed=False to retain current behavior or observed=True to adopt the future default and silence this warning.\n",
      "  fies_data.groupby('W_REGN')['PC_TOTEX'].mean().sort_values(ascending=False)\n"
     ]
    },
    {
     "data": {
      "text/plain": [
       "W_REGN\n",
       "National Capital Region                 91086.251050\n",
       "Region IVA - CALABARZON                 74371.366868\n",
       "Region III - Central Luzon              73754.625326\n",
       "Cordillera Administrative Region        64843.031167\n",
       "Region I - Ilocos Region                62137.168147\n",
       "Region VI - Western Visayas             61343.620445\n",
       "Region II - Cagayan Valley              60609.380325\n",
       "Region VII - Central Visayas            59621.566257\n",
       "Region VIII - Eastern Visayas           54876.817117\n",
       "Region IVB - MIMAROPA                   52399.936002\n",
       "Region XIII - Caraga                    51197.835479\n",
       "Region X - Northern Mindanao            50786.702549\n",
       "Region V- Bicol                         48651.878414\n",
       "Region XI - Davao                       47750.246947\n",
       "Region XII - SOCCSKSARGEN               46451.497936\n",
       "Region IX - Zamboanga Peninsula         43261.450208\n",
       "Autonomous Region in Muslim Mindanao    32444.994263\n",
       "Name: PC_TOTEX, dtype: float64"
      ]
     },
     "execution_count": 10,
     "metadata": {},
     "output_type": "execute_result"
    }
   ],
   "source": [
    "\n",
    "# Summarize 'PC_TOTEX' by 'Urban_Rural'\n",
    "#fies_data.groupby('W_REGN')['PC_TOTEX'].mean()\n",
    "\n",
    "\n",
    "fies_data.groupby('W_REGN')['PC_TOTEX'].mean().sort_values(ascending=False)\n"
   ]
  }
 ],
 "metadata": {
  "colab": {
   "provenance": []
  },
  "kernelspec": {
   "display_name": "deeplearning",
   "language": "python",
   "name": "python3"
  },
  "language_info": {
   "codemirror_mode": {
    "name": "ipython",
    "version": 3
   },
   "file_extension": ".py",
   "mimetype": "text/x-python",
   "name": "python",
   "nbconvert_exporter": "python",
   "pygments_lexer": "ipython3",
   "version": "3.11.9"
  }
 },
 "nbformat": 4,
 "nbformat_minor": 5
}
