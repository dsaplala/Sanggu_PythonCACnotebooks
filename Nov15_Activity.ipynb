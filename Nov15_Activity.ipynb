{
 "cells": [
  {
   "cell_type": "markdown",
   "id": "8a31f388",
   "metadata": {},
   "source": [
    "# Code & Conquer: Crash Course on Alternative Econometric Software\n",
    "## Closing Activity: Data Analysis"
   ]
  },
  {
   "cell_type": "markdown",
   "id": "e362b13a",
   "metadata": {},
   "source": [
    "\n",
    "This notebook is designed for you to practice data analysis. Get any two mergeable datasets of your choice (i.e. must have a common column. The common column can be individuals, countries, firms, time, etc). \n",
    "\n",
    "Use your chosen datasets to design a mini-research problem and apply the following concepts:\n",
    "\n",
    "1. **Basic Data Analysis**\n",
    "   - Describing Data\n",
    "   - Generating New Variables\n",
    "   - Recoding Variables\n",
    "   - Tabulating and Cross-tabulation\n",
    "   - Summarizing by Group\n",
    "\n",
    "2. **Merging Datasets**\n",
    "\n",
    "3. **OLS Regression Analysis**\n",
    "   - Running an OLS Regression\n",
    "   - Running Regression Diagnostics: Multicollinearity, Heteroskedasticity, Serial Correlation (Breusch-Godfrey Test)\n",
    "\n",
    "4. Put a short 3-4 sentence paragraph synthesis of your insights at the end.\n"
   ]
  },
  {
   "cell_type": "markdown",
   "id": "5ae1ed7c",
   "metadata": {},
   "source": [
    "## 0. Load your data"
   ]
  },
  {
   "cell_type": "code",
   "execution_count": null,
   "id": "b3f21441",
   "metadata": {},
   "outputs": [],
   "source": [
    "\n",
    "# Load your dataset\n",
    "import pandas as pd\n",
    "\n",
    "'''\n",
    "in all cases below, \n",
    "make sure to take into account the location of the file if you're not doing this in Colab\n",
    "'''\n",
    "\n",
    "# Replace 'your_dataset.csv' with the path to your dataset\n",
    "# if csv file\n",
    "data = pd.read_csv('your_dataset.csv')     \n",
    "\n",
    "# if excel file\n",
    "# data = pd.read_excel('your_dataset.xlsx')\n",
    "\n",
    "# if Stata file\n",
    "# data = pd.read_stata('your_dataset.dta')\n",
    "\n"
   ]
  },
  {
   "cell_type": "markdown",
   "id": "65e6efbe",
   "metadata": {},
   "source": [
    "## 1. Basic Data Analysis"
   ]
  },
  {
   "cell_type": "code",
   "execution_count": null,
   "id": "c358a959",
   "metadata": {},
   "outputs": [],
   "source": [
    "# Describe the dataset and its shape (number of rows and columns)\n",
    "print(\"Dataset Info:\")\n",
    "#data.info()\n",
    "\n",
    "print(data.shape)   #What is the shape? Add a comment or text to answer\n",
    "\n",
    "# Generate descriptive statistics\n",
    "print(\"\\nDescriptive Statistics:\")\n",
    "print(data.describe())"
   ]
  },
  {
   "cell_type": "code",
   "execution_count": null,
   "id": "c5e30401",
   "metadata": {},
   "outputs": [],
   "source": [
    "\n",
    "# Generating new variables example\n",
    "\n",
    "# Recoding variables example\n"
   ]
  },
  {
   "cell_type": "code",
   "execution_count": null,
   "id": "6597dd40",
   "metadata": {},
   "outputs": [],
   "source": [
    "\n",
    "# Tabulation example\n",
    "\n",
    "\n",
    "# Cross-tabulation example\n",
    "\n"
   ]
  },
  {
   "cell_type": "code",
   "execution_count": null,
   "id": "b7a236c0",
   "metadata": {},
   "outputs": [],
   "source": [
    "\n",
    "# Summarization by group example\n",
    "\n"
   ]
  },
  {
   "cell_type": "markdown",
   "id": "874cfe6f",
   "metadata": {},
   "source": [
    "## 2. Merging Datasets"
   ]
  },
  {
   "cell_type": "code",
   "execution_count": null,
   "id": "a49b88e7",
   "metadata": {},
   "outputs": [],
   "source": [
    "\n",
    "# Load additional dataset\n",
    "\n",
    "# Merge the datasets\n",
    "\n"
   ]
  },
  {
   "cell_type": "markdown",
   "id": "1e6666b5",
   "metadata": {},
   "source": [
    "## 3. OLS Regression Analysis"
   ]
  },
  {
   "cell_type": "code",
   "execution_count": null,
   "id": "4fd38bc0",
   "metadata": {},
   "outputs": [],
   "source": [
    "\n",
    "import statsmodels.api as sm\n",
    "\n",
    "# Define dependent and independent variables\n",
    "\n",
    "# Add a constant to the independent variables\n",
    "\n",
    "# Fit OLS regression\n",
    "\n",
    "# Display regression results\n"
   ]
  },
  {
   "cell_type": "code",
   "execution_count": null,
   "id": "d22a61e7",
   "metadata": {},
   "outputs": [],
   "source": [
    "\n",
    "# Regression Diagnostics: Multicollinearity\n",
    "from statsmodels.stats.outliers_influence import variance_inflation_factor\n",
    "\n",
    "# Calculate VIF\n",
    "\n"
   ]
  },
  {
   "cell_type": "code",
   "execution_count": null,
   "id": "272b2a79",
   "metadata": {},
   "outputs": [],
   "source": [
    "\n",
    "# Regression Diagnostics: Heteroskedasticity\n",
    "from statsmodels.stats.diagnostic import het_breuschpagan\n",
    "\n",
    "# Breusch-Pagan test\n",
    "\n"
   ]
  },
  {
   "cell_type": "code",
   "execution_count": null,
   "id": "80ed73df",
   "metadata": {},
   "outputs": [],
   "source": [
    "\n",
    "# Regression Diagnostics: Serial Correlation (Breusch-Godfrey Test)\n",
    "# skip if you're not doing time series analysis\n",
    "\n",
    "# from statsmodels.stats.diagnostic import acorr_breusch_godfrey\n",
    "\n",
    "# Breusch-Godfrey test\n",
    "\n"
   ]
  },
  {
   "cell_type": "markdown",
   "id": "c446975b",
   "metadata": {},
   "source": [
    "## 4. Discussion"
   ]
  },
  {
   "cell_type": "markdown",
   "id": "65432b9b",
   "metadata": {},
   "source": [
    "Discuss here in 3 to 4 sentences your synthesis of your insights from the results above."
   ]
  },
  {
   "cell_type": "code",
   "execution_count": 1,
   "id": "77b7e422",
   "metadata": {},
   "outputs": [
    {
     "ename": "ModuleNotFoundError",
     "evalue": "No module named 'pystata'",
     "output_type": "error",
     "traceback": [
      "\u001b[0;31m---------------------------------------------------------------------------\u001b[0m",
      "\u001b[0;31mModuleNotFoundError\u001b[0m                       Traceback (most recent call last)",
      "Cell \u001b[0;32mIn[1], line 1\u001b[0m\n\u001b[0;32m----> 1\u001b[0m \u001b[38;5;28;01mfrom\u001b[39;00m \u001b[38;5;21;01mpystata\u001b[39;00m \u001b[38;5;28;01mimport\u001b[39;00m stata\n\u001b[1;32m      2\u001b[0m stata\u001b[38;5;241m.\u001b[39mrun(\u001b[38;5;124m'\u001b[39m\u001b[38;5;124mdisplay \u001b[39m\u001b[38;5;124m\"\u001b[39m\u001b[38;5;124mHello from Stata!\u001b[39m\u001b[38;5;124m\"\u001b[39m\u001b[38;5;124m'\u001b[39m)\n",
      "\u001b[0;31mModuleNotFoundError\u001b[0m: No module named 'pystata'"
     ]
    }
   ],
   "source": [
    "from pystata import stata\n",
    "stata.run('display \"Hello from Stata!\"')\n"
   ]
  }
 ],
 "metadata": {
  "kernelspec": {
   "display_name": "deeplearning",
   "language": "python",
   "name": "python3"
  },
  "language_info": {
   "codemirror_mode": {
    "name": "ipython",
    "version": 3
   },
   "file_extension": ".py",
   "mimetype": "text/x-python",
   "name": "python",
   "nbconvert_exporter": "python",
   "pygments_lexer": "ipython3",
   "version": "3.11.9"
  }
 },
 "nbformat": 4,
 "nbformat_minor": 5
}
