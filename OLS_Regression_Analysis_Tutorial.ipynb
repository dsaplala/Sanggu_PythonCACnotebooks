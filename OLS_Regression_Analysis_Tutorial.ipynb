{
 "cells": [
  {
   "cell_type": "markdown",
   "id": "6b32dba1",
   "metadata": {
    "id": "6b32dba1"
   },
   "source": [
    "# Lesson 3: OLS Regression Analysis"
   ]
  },
  {
   "cell_type": "markdown",
   "id": "984ae59d",
   "metadata": {
    "id": "984ae59d"
   },
   "source": [
    "\n",
    "This tutorial covers Ordinary Least Squares (OLS) regression analysis using Python. It includes:\n",
    "\n",
    "1. Running an OLS Regression\n",
    "2. Running Regression Diagnostics\n",
    "   - Multicollinearity\n",
    "   - Heteroskedasticity\n",
    "   - Serial Correlation (Breusch-Godfrey Test)\n"
   ]
  },
  {
   "cell_type": "code",
   "execution_count": null,
   "id": "JzbqV2j0l5Ei",
   "metadata": {
    "id": "JzbqV2j0l5Ei"
   },
   "outputs": [],
   "source": [
    "import pandas as pd\n",
    "\n",
    "# Load the dataset\n",
    "file_path = '2021FIESvol1_puf_SELECTED.dta' #change this depending on where the file is located\n",
    "fies_data = pd.read_stata(file_path)\n",
    "\n",
    "# Add a new variable: Per Capita Total Expenditure\n",
    "fies_data['PC_TOTEX'] = fies_data['TOTEX'] / fies_data['FSIZE']\n"
   ]
  },
  {
   "cell_type": "markdown",
   "id": "f38bf07c",
   "metadata": {
    "id": "f38bf07c"
   },
   "source": [
    "## 1. Running an OLS Regression"
   ]
  },
  {
   "cell_type": "code",
   "execution_count": null,
   "id": "48e27a70",
   "metadata": {
    "colab": {
     "base_uri": "https://localhost:8080/"
    },
    "id": "48e27a70",
    "outputId": "16b869c5-1fbd-4344-d0fb-e4910b97f459"
   },
   "outputs": [
    {
     "name": "stdout",
     "output_type": "stream",
     "text": [
      "                            OLS Regression Results                            \n",
      "==============================================================================\n",
      "Dep. Variable:               PC_TOTEX   R-squared:                       0.526\n",
      "Model:                            OLS   Adj. R-squared:                  0.526\n",
      "Method:                 Least Squares   F-statistic:                 6.104e+04\n",
      "Date:                Fri, 15 Nov 2024   Prob (F-statistic):               0.00\n",
      "Time:                        11:35:44   Log-Likelihood:            -1.9933e+06\n",
      "No. Observations:              165029   AIC:                         3.987e+06\n",
      "Df Residuals:                  165025   BIC:                         3.987e+06\n",
      "Df Model:                           3                                         \n",
      "Covariance Type:            nonrobust                                         \n",
      "==============================================================================\n",
      "                 coef    std err          t      P>|t|      [0.025      0.975]\n",
      "------------------------------------------------------------------------------\n",
      "const      -4.844e+05   2583.025   -187.528      0.000   -4.89e+05   -4.79e+05\n",
      "FSIZE      -1.397e+04     59.064   -236.441      0.000   -1.41e+04   -1.38e+04\n",
      "FOODoTOTEX -6.022e+04    943.437    -63.831      0.000   -6.21e+04   -5.84e+04\n",
      "lnTOINC     5.146e+04    193.831    265.491      0.000    5.11e+04    5.18e+04\n",
      "==============================================================================\n",
      "Omnibus:                   343219.745   Durbin-Watson:                   1.597\n",
      "Prob(Omnibus):                  0.000   Jarque-Bera (JB):       7590349068.559\n",
      "Skew:                          17.071   Prob(JB):                         0.00\n",
      "Kurtosis:                    1053.091   Cond. No.                         335.\n",
      "==============================================================================\n",
      "\n",
      "Notes:\n",
      "[1] Standard Errors assume that the covariance matrix of the errors is correctly specified.\n"
     ]
    }
   ],
   "source": [
    "\n",
    "import statsmodels.api as sm\n",
    "\n",
    "# Define the dependent variable and independent variables\n",
    "Y = fies_data['PC_TOTEX']\n",
    "X = fies_data[['FSIZE', 'FOODoTOTEX', 'lnTOINC']]\n",
    "\n",
    "# Add a constant to the independent variables\n",
    "X = sm.add_constant(X)\n",
    "\n",
    "# Fit the OLS regression model\n",
    "ols_model = sm.OLS(Y, X).fit()\n",
    "\n",
    "# Display the regression results\n",
    "print(ols_model.summary())\n"
   ]
  },
  {
   "cell_type": "markdown",
   "id": "b6ec8f87",
   "metadata": {
    "id": "b6ec8f87"
   },
   "source": [
    "## 2.1 Multicollinearity"
   ]
  },
  {
   "cell_type": "code",
   "execution_count": null,
   "id": "c10a6a58",
   "metadata": {
    "colab": {
     "base_uri": "https://localhost:8080/"
    },
    "id": "c10a6a58",
    "outputId": "c9963192-b28e-4893-8ce0-6365c770a15c"
   },
   "outputs": [
    {
     "name": "stdout",
     "output_type": "stream",
     "text": [
      "     Variable         VIF\n",
      "0       const  606.513501\n",
      "1       FSIZE    1.305823\n",
      "2  FOODoTOTEX    1.624127\n",
      "3     lnTOINC    1.711840\n"
     ]
    }
   ],
   "source": [
    "\n",
    "from statsmodels.stats.outliers_influence import variance_inflation_factor\n",
    "\n",
    "# Calculate Variance Inflation Factor (VIF)\n",
    "vif_data = pd.DataFrame()\n",
    "vif_data['Variable'] = X.columns\n",
    "vif_data['VIF'] = [variance_inflation_factor(X.values, i) for i in range(X.shape[1])]\n",
    "\n",
    "# Display VIF results\n",
    "print(vif_data)\n"
   ]
  },
  {
   "cell_type": "markdown",
   "id": "936007a7",
   "metadata": {
    "id": "936007a7"
   },
   "source": [
    "## 2.2 Heteroskedasticity"
   ]
  },
  {
   "cell_type": "code",
   "execution_count": null,
   "id": "fb0f917d",
   "metadata": {
    "colab": {
     "base_uri": "https://localhost:8080/"
    },
    "id": "fb0f917d",
    "outputId": "61df00b1-336b-4353-d7f3-412d4e6974a3"
   },
   "outputs": [
    {
     "name": "stdout",
     "output_type": "stream",
     "text": [
      "{'Lagrange multiplier statistic': 892.703973732243, 'p-value': 3.3851240742789013e-193, 'f-value': 299.1791513754853, 'f p-value': 1.0187850325972879e-193}\n"
     ]
    }
   ],
   "source": [
    "\n",
    "from statsmodels.stats.diagnostic import het_breuschpagan\n",
    "\n",
    "# Perform the Breusch-Pagan test for heteroskedasticity\n",
    "bp_test = het_breuschpagan(ols_model.resid, X)\n",
    "\n",
    "# Display test results\n",
    "labels = ['Lagrange multiplier statistic', 'p-value', 'f-value', 'f p-value']\n",
    "bp_results = dict(zip(labels, bp_test))\n",
    "print(bp_results)\n"
   ]
  },
  {
   "cell_type": "markdown",
   "id": "1c491b7c",
   "metadata": {
    "id": "1c491b7c"
   },
   "source": [
    "## 2.3 Serial Correlation: Breusch-Godfrey Test\n",
    "\n",
    "* Skip if you're not doing time series data"
   ]
  },
  {
   "cell_type": "code",
   "execution_count": null,
   "id": "7455e84f",
   "metadata": {
    "colab": {
     "base_uri": "https://localhost:8080/"
    },
    "id": "7455e84f",
    "outputId": "7fff3c40-cdf0-4790-d69f-9088e2c83cb0"
   },
   "outputs": [
    {
     "name": "stdout",
     "output_type": "stream",
     "text": [
      "{'Lagrange multiplier statistic': 13448.157830290767, 'p-value': 0.0, 'f-value': 1464.0027938892704, 'f p-value': 0.0}\n"
     ]
    }
   ],
   "source": [
    "\n",
    "from statsmodels.stats.diagnostic import acorr_breusch_godfrey\n",
    "\n",
    "# Perform the Breusch-Godfrey test for serial correlation\n",
    "bg_test = acorr_breusch_godfrey(ols_model)\n",
    "\n",
    "# Display test results\n",
    "bg_labels = ['Lagrange multiplier statistic', 'p-value', 'f-value', 'f p-value']\n",
    "bg_results = dict(zip(bg_labels, bg_test))\n",
    "print(bg_results)\n"
   ]
  }
 ],
 "metadata": {
  "colab": {
   "provenance": []
  },
  "kernelspec": {
   "display_name": "Python 3",
   "name": "python3"
  },
  "language_info": {
   "name": "python"
  }
 },
 "nbformat": 4,
 "nbformat_minor": 5
}
